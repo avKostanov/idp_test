{
 "cells": [
  {
   "cell_type": "code",
   "execution_count": 8,
   "metadata": {},
   "outputs": [
    {
     "name": "stdout",
     "output_type": "stream",
     "text": [
      "Loaded pretrained weights for efficientnet-b3\n"
     ]
    }
   ],
   "source": [
    "import torch\n",
    "from PIL import Image\n",
    "from efficientnet_pytorch import EfficientNet\n",
    "import numpy as np\n",
    "import albumentations as A\n",
    "from albumentations.pytorch import ToTensorV2\n",
    "\n",
    "model = EfficientNet.from_pretrained('efficientnet-b3')\n",
    "\n",
    "# Freeze weights\n",
    "for param in model.parameters():\n",
    "    param.requires_grad = False\n",
    "in_features = model._fc.in_features\n",
    "model._fc = torch.nn.Linear(in_features, 10)\n",
    "\n",
    "transform = A.Compose(\n",
    "    [\n",
    "        A.Resize(256, 256),\n",
    "        A.Normalize(mean=(0.485, 0.456, 0.406), std=(0.229, 0.224, 0.225)),\n",
    "        ToTensorV2(),\n",
    "    ]\n",
    ")\n",
    "\n",
    "model.cpu()\n",
    "model.load_state_dict(torch.load('weights.pth', map_location=torch.device('cpu')))\n",
    "def inference(imagepath, model):\n",
    "    image = Image.open(imagepath)\n",
    "    mapper = {   \n",
    "        '0': 'Shih-Tzu',\n",
    "        '1': 'Rhodesian ridgeback',\n",
    "        '2': 'Beagle',\n",
    "        '3': 'English foxhound',\n",
    "        '4': 'Australian terrier',\n",
    "        '5': 'Border terrier',\n",
    "        '6': 'Golden retriever',\n",
    "        '7': 'Old English sheepdog',\n",
    "        '8': 'Samoyed',\n",
    "        '9': 'Dingo'\n",
    "    }\n",
    "    model.eval()\n",
    "    x = np.array(image.convert('RGB'))\n",
    "    x_processed = transform(image=x)['image']\n",
    "    y_hat = model(x_processed.unsqueeze(0))\n",
    "    preds = y_hat.argmax(dim=1).item()\n",
    "    return mapper[str(preds)], torch.max(torch.softmax(y_hat, dim=1)).item()\n"
   ]
  },
  {
   "cell_type": "code",
   "execution_count": 9,
   "metadata": {},
   "outputs": [
    {
     "data": {
      "text/plain": [
       "('Beagle', 0.9325783848762512)"
      ]
     },
     "execution_count": 9,
     "metadata": {},
     "output_type": "execute_result"
    }
   ],
   "source": [
    "inference(\n",
    "    r'C:\\Users\\avkos\\Desktop\\idp_flask\\uploads\\Beagle_600.jpg',\n",
    "    model\n",
    ")"
   ]
  },
  {
   "cell_type": "code",
   "execution_count": null,
   "metadata": {},
   "outputs": [],
   "source": []
  }
 ],
 "metadata": {
  "interpreter": {
   "hash": "58006f8b60df1345990d15c49cf7469dbbfb86e00352c424dbedaf885ac4ee6c"
  },
  "kernelspec": {
   "display_name": "Python 3.9.7 ('base')",
   "language": "python",
   "name": "python3"
  },
  "language_info": {
   "codemirror_mode": {
    "name": "ipython",
    "version": 3
   },
   "file_extension": ".py",
   "mimetype": "text/x-python",
   "name": "python",
   "nbconvert_exporter": "python",
   "pygments_lexer": "ipython3",
   "version": "3.9.7"
  },
  "orig_nbformat": 4
 },
 "nbformat": 4,
 "nbformat_minor": 2
}
